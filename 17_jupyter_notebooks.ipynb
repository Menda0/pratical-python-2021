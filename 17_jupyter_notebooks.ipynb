{
 "cells": [
  {
   "cell_type": "markdown",
   "id": "99395b1c-f409-4211-9b90-199f892226a6",
   "metadata": {},
   "source": [
    "# This is my first notebook\n",
    "\n",
    "This is my first notebook and will create a basic helloworld function"
   ]
  },
  {
   "cell_type": "code",
   "execution_count": 1,
   "id": "ca87312b-a2aa-40fc-b334-e9d78458da10",
   "metadata": {},
   "outputs": [
    {
     "name": "stdout",
     "output_type": "stream",
     "text": [
      "Hello world\n"
     ]
    }
   ],
   "source": [
    "def sayHelloWorld():\n",
    "    print(\"Hello world\")\n",
    "\n",
    "sayHelloWorld()"
   ]
  },
  {
   "cell_type": "markdown",
   "id": "55522517-0e6c-4e7f-90b8-0a7df7dd54e0",
   "metadata": {},
   "source": [
    "## List of my datasets resources\n",
    "\n",
    "- Original https://www.kaggle.com/\n",
    "- Covid - https://www.kaggle.com/imdevskp/corona-virus-report\n",
    "- Olympics - https://www.kaggle.com/arjunprasadsarkhel/2021-olympics-in-tokyo"
   ]
  },
  {
   "cell_type": "code",
   "execution_count": null,
   "id": "80fad5d1-9724-4081-8926-9925bf2cd42a",
   "metadata": {},
   "outputs": [],
   "source": []
  }
 ],
 "metadata": {
  "kernelspec": {
   "display_name": "Python 3 (ipykernel)",
   "language": "python",
   "name": "python3"
  },
  "language_info": {
   "codemirror_mode": {
    "name": "ipython",
    "version": 3
   },
   "file_extension": ".py",
   "mimetype": "text/x-python",
   "name": "python",
   "nbconvert_exporter": "python",
   "pygments_lexer": "ipython3",
   "version": "3.7.4"
  }
 },
 "nbformat": 4,
 "nbformat_minor": 5
}
